{
  "nbformat": 4,
  "nbformat_minor": 0,
  "metadata": {
    "colab": {
      "provenance": [],
      "authorship_tag": "ABX9TyPbpmXKFG7CVK6omzgekjPW",
      "include_colab_link": true
    },
    "kernelspec": {
      "name": "python3",
      "display_name": "Python 3"
    },
    "language_info": {
      "name": "python"
    }
  },
  "cells": [
    {
      "cell_type": "markdown",
      "metadata": {
        "id": "view-in-github",
        "colab_type": "text"
      },
      "source": [
        "<a href=\"https://colab.research.google.com/github/dhag/python_lib/blob/main/github.ipynb\" target=\"_parent\"><img src=\"https://colab.research.google.com/assets/colab-badge.svg\" alt=\"Open In Colab\"/></a>"
      ]
    },
    {
      "cell_type": "code",
      "execution_count": null,
      "metadata": {
        "id": "T9eOIIA4LWjT"
      },
      "outputs": [],
      "source": [
        "# ファイル名: mylib.py\n",
        "\n",
        "class MyTool:\n",
        "    def say_hello(self, name):\n",
        "        return f\"こんにちは、{name}さん！\"\n",
        "\n",
        "    def add(self, a, b):\n",
        "        return a + b\n"
      ]
    }
  ]
}